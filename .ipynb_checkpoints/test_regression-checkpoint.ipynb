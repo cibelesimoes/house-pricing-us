{
 "cells": [
  {
   "cell_type": "code",
   "execution_count": null,
   "id": "081abe29",
   "metadata": {},
   "outputs": [],
   "source": [
    "# Importando bibliotecas\n",
    "import pandas as pd\n",
    "import numpy as np\n",
    "import matplotlib.pyplot as plt\n",
    "from sklearn.linear_model import LinearRegression"
   ]
  },
  {
   "cell_type": "code",
   "execution_count": null,
   "id": "042e8df4",
   "metadata": {},
   "outputs": [],
   "source": [
    "# Carregando os dados\n",
    "data = pd.read_csv('house_prices.csv')"
   ]
  },
  {
   "cell_type": "code",
   "execution_count": null,
   "id": "8d0d9c1a",
   "metadata": {},
   "outputs": [],
   "source": [
    "# Definindo as variáveis independentes e dependentes\n",
    "X = data['sqft_living'].values.reshape(-1,1) # tamanho da casa\n",
    "y = data['price'].values.reshape(-1,1) # preço da casa\n"
   ]
  },
  {
   "cell_type": "code",
   "execution_count": null,
   "id": "8adae46b",
   "metadata": {},
   "outputs": [],
   "source": [
    "# Criando e treinando o modelo de regressão linear\n",
    "model = LinearRegression()\n",
    "model.fit(X, y)\n"
   ]
  },
  {
   "cell_type": "code",
   "execution_count": null,
   "id": "78a174e7",
   "metadata": {},
   "outputs": [],
   "source": [
    "# Fazendo a previsão de preços com base no tamanho da casa\n",
    "new_X = np.array([[2000]]) # tamanho da casa de 2000 pés quadrados\n",
    "predicted_price = model.predict(new_X)\n",
    "print(predicted_price) # valor previsto para o preço da casa\n"
   ]
  },
  {
   "cell_type": "code",
   "execution_count": null,
   "id": "37aacdfe",
   "metadata": {},
   "outputs": [],
   "source": [
    "# Plotando a linha de regressão no gráfico de dispersão\n",
    "plt.scatter(X, y)\n",
    "plt.plot(X, model.predict(X), color='red')\n",
    "plt.show()"
   ]
  },
  {
   "cell_type": "code",
   "execution_count": null,
   "id": "ab5c5dba",
   "metadata": {},
   "outputs": [],
   "source": []
  },
  {
   "cell_type": "code",
   "execution_count": null,
   "id": "cb963b0c",
   "metadata": {},
   "outputs": [],
   "source": []
  },
  {
   "cell_type": "code",
   "execution_count": null,
   "id": "9e81709e",
   "metadata": {},
   "outputs": [],
   "source": []
  },
  {
   "cell_type": "code",
   "execution_count": null,
   "id": "8d0d7f4c",
   "metadata": {},
   "outputs": [],
   "source": []
  }
 ],
 "metadata": {
  "kernelspec": {
   "display_name": "Python 3 (ipykernel)",
   "language": "python",
   "name": "python3"
  },
  "language_info": {
   "codemirror_mode": {
    "name": "ipython",
    "version": 3
   },
   "file_extension": ".py",
   "mimetype": "text/x-python",
   "name": "python",
   "nbconvert_exporter": "python",
   "pygments_lexer": "ipython3",
   "version": "3.9.7"
  }
 },
 "nbformat": 4,
 "nbformat_minor": 5
}

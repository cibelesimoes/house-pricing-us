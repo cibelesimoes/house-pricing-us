{
 "cells": [
  {
   "cell_type": "markdown",
   "id": "0c1d18a0",
   "metadata": {},
   "source": [
    "## Classe de Regressão Linear"
   ]
  },
  {
   "cell_type": "code",
   "execution_count": 2,
   "id": "685eb1c5",
   "metadata": {},
   "outputs": [],
   "source": [
    "import numpy as np\n",
    "import pandas as pd"
   ]
  },
  {
   "cell_type": "code",
   "execution_count": 12,
   "id": "b218dc23",
   "metadata": {},
   "outputs": [
    {
     "data": {
      "text/plain": [
       "12"
      ]
     },
     "execution_count": 12,
     "metadata": {},
     "output_type": "execute_result"
    }
   ],
   "source": [
    "3*4"
   ]
  },
  {
   "cell_type": "code",
   "execution_count": 13,
   "id": "6215231c",
   "metadata": {},
   "outputs": [
    {
     "data": {
      "text/plain": [
       "12"
      ]
     },
     "execution_count": 13,
     "metadata": {},
     "output_type": "execute_result"
    }
   ],
   "source": [
    "np.dot(3, 4)"
   ]
  },
  {
   "cell_type": "code",
   "execution_count": null,
   "id": "323c4b39",
   "metadata": {},
   "outputs": [],
   "source": []
  },
  {
   "cell_type": "code",
   "execution_count": 1,
   "id": "6b9a4532",
   "metadata": {},
   "outputs": [],
   "source": [
    "class RegressaoLinear:\n",
    "    def __init__(self):\n",
    "        self.coeficientes = None\n",
    "    \n",
    "    def treinar(self, X, y):\n",
    "        # Adiciona uma coluna de 1s para o termo de viés (bias)\n",
    "        X = np.insert(X, 0, 1, axis=1)\n",
    "        \n",
    "        # Calcula a matriz X^T * X\n",
    "        XT_X = np.dot(X.T, X)\n",
    "        \n",
    "        # Calcula a matriz inversa de XT_X\n",
    "        XT_X_inv = np.linalg.inv(XT_X)\n",
    "        \n",
    "        # Calcula a matriz X^T * y\n",
    "        XT_y = np.dot(X.T, y)\n",
    "        \n",
    "        # Calcula os coeficientes usando a fórmula da regressão linear\n",
    "        self.coeficientes = np.dot(XT_X_inv, XT_y)\n",
    "        \n",
    "        #self.coeficientes = np.linalg.inv(X.T.dot(X)).dot(X.T).dot(y)\n",
    "\n",
    "    \n",
    "    def prever(self, X):\n",
    "        # Adiciona uma coluna de 1s para o termo de viés (bias)\n",
    "        X = np.insert(X, 0, 1, axis=1)\n",
    "        \n",
    "        # Realiza a previsão multiplicando os coeficientes pelos atributos\n",
    "        return X.dot(self.coeficientes)\n",
    "    \n",
    "    def avaliar(self, X, y):\n",
    "        # Realiza a previsão\n",
    "        y_pred = self.prever(X)\n",
    "        \n",
    "        # Calcula o erro quadrático médio (MSE)\n",
    "        mse = np.mean((y - y_pred) ** 2)\n",
    "        \n",
    "        # Calcula o coeficiente de determinação (R²)\n",
    "        ss_total = np.sum((y - np.mean(y)) ** 2)\n",
    "        ss_residual = np.sum((y - y_pred) ** 2)\n",
    "        r2 = 1 - (ss_residual / ss_total)\n",
    "        \n",
    "        return mse, r2"
   ]
  },
  {
   "cell_type": "markdown",
   "id": "127c47be",
   "metadata": {},
   "source": [
    "## Utilização"
   ]
  },
  {
   "cell_type": "code",
   "execution_count": 7,
   "id": "88fd729b",
   "metadata": {},
   "outputs": [
    {
     "data": {
      "text/html": [
       "<div>\n",
       "<style scoped>\n",
       "    .dataframe tbody tr th:only-of-type {\n",
       "        vertical-align: middle;\n",
       "    }\n",
       "\n",
       "    .dataframe tbody tr th {\n",
       "        vertical-align: top;\n",
       "    }\n",
       "\n",
       "    .dataframe thead th {\n",
       "        text-align: right;\n",
       "    }\n",
       "</style>\n",
       "<table border=\"1\" class=\"dataframe\">\n",
       "  <thead>\n",
       "    <tr style=\"text-align: right;\">\n",
       "      <th></th>\n",
       "      <th>Id</th>\n",
       "      <th>MSSubClass</th>\n",
       "      <th>MSZoning</th>\n",
       "      <th>LotFrontage</th>\n",
       "      <th>LotArea</th>\n",
       "      <th>Street</th>\n",
       "      <th>Alley</th>\n",
       "      <th>LotShape</th>\n",
       "      <th>LandContour</th>\n",
       "      <th>Utilities</th>\n",
       "      <th>...</th>\n",
       "      <th>PoolArea</th>\n",
       "      <th>PoolQC</th>\n",
       "      <th>Fence</th>\n",
       "      <th>MiscFeature</th>\n",
       "      <th>MiscVal</th>\n",
       "      <th>MoSold</th>\n",
       "      <th>YrSold</th>\n",
       "      <th>SaleType</th>\n",
       "      <th>SaleCondition</th>\n",
       "      <th>SalePrice</th>\n",
       "    </tr>\n",
       "  </thead>\n",
       "  <tbody>\n",
       "    <tr>\n",
       "      <th>0</th>\n",
       "      <td>1</td>\n",
       "      <td>60</td>\n",
       "      <td>RL</td>\n",
       "      <td>65.0</td>\n",
       "      <td>8450</td>\n",
       "      <td>Pave</td>\n",
       "      <td>NaN</td>\n",
       "      <td>Reg</td>\n",
       "      <td>Lvl</td>\n",
       "      <td>AllPub</td>\n",
       "      <td>...</td>\n",
       "      <td>0</td>\n",
       "      <td>NaN</td>\n",
       "      <td>NaN</td>\n",
       "      <td>NaN</td>\n",
       "      <td>0</td>\n",
       "      <td>2</td>\n",
       "      <td>2008</td>\n",
       "      <td>WD</td>\n",
       "      <td>Normal</td>\n",
       "      <td>208500</td>\n",
       "    </tr>\n",
       "    <tr>\n",
       "      <th>1</th>\n",
       "      <td>2</td>\n",
       "      <td>20</td>\n",
       "      <td>RL</td>\n",
       "      <td>80.0</td>\n",
       "      <td>9600</td>\n",
       "      <td>Pave</td>\n",
       "      <td>NaN</td>\n",
       "      <td>Reg</td>\n",
       "      <td>Lvl</td>\n",
       "      <td>AllPub</td>\n",
       "      <td>...</td>\n",
       "      <td>0</td>\n",
       "      <td>NaN</td>\n",
       "      <td>NaN</td>\n",
       "      <td>NaN</td>\n",
       "      <td>0</td>\n",
       "      <td>5</td>\n",
       "      <td>2007</td>\n",
       "      <td>WD</td>\n",
       "      <td>Normal</td>\n",
       "      <td>181500</td>\n",
       "    </tr>\n",
       "    <tr>\n",
       "      <th>2</th>\n",
       "      <td>3</td>\n",
       "      <td>60</td>\n",
       "      <td>RL</td>\n",
       "      <td>68.0</td>\n",
       "      <td>11250</td>\n",
       "      <td>Pave</td>\n",
       "      <td>NaN</td>\n",
       "      <td>IR1</td>\n",
       "      <td>Lvl</td>\n",
       "      <td>AllPub</td>\n",
       "      <td>...</td>\n",
       "      <td>0</td>\n",
       "      <td>NaN</td>\n",
       "      <td>NaN</td>\n",
       "      <td>NaN</td>\n",
       "      <td>0</td>\n",
       "      <td>9</td>\n",
       "      <td>2008</td>\n",
       "      <td>WD</td>\n",
       "      <td>Normal</td>\n",
       "      <td>223500</td>\n",
       "    </tr>\n",
       "    <tr>\n",
       "      <th>3</th>\n",
       "      <td>4</td>\n",
       "      <td>70</td>\n",
       "      <td>RL</td>\n",
       "      <td>60.0</td>\n",
       "      <td>9550</td>\n",
       "      <td>Pave</td>\n",
       "      <td>NaN</td>\n",
       "      <td>IR1</td>\n",
       "      <td>Lvl</td>\n",
       "      <td>AllPub</td>\n",
       "      <td>...</td>\n",
       "      <td>0</td>\n",
       "      <td>NaN</td>\n",
       "      <td>NaN</td>\n",
       "      <td>NaN</td>\n",
       "      <td>0</td>\n",
       "      <td>2</td>\n",
       "      <td>2006</td>\n",
       "      <td>WD</td>\n",
       "      <td>Abnorml</td>\n",
       "      <td>140000</td>\n",
       "    </tr>\n",
       "    <tr>\n",
       "      <th>4</th>\n",
       "      <td>5</td>\n",
       "      <td>60</td>\n",
       "      <td>RL</td>\n",
       "      <td>84.0</td>\n",
       "      <td>14260</td>\n",
       "      <td>Pave</td>\n",
       "      <td>NaN</td>\n",
       "      <td>IR1</td>\n",
       "      <td>Lvl</td>\n",
       "      <td>AllPub</td>\n",
       "      <td>...</td>\n",
       "      <td>0</td>\n",
       "      <td>NaN</td>\n",
       "      <td>NaN</td>\n",
       "      <td>NaN</td>\n",
       "      <td>0</td>\n",
       "      <td>12</td>\n",
       "      <td>2008</td>\n",
       "      <td>WD</td>\n",
       "      <td>Normal</td>\n",
       "      <td>250000</td>\n",
       "    </tr>\n",
       "  </tbody>\n",
       "</table>\n",
       "<p>5 rows × 81 columns</p>\n",
       "</div>"
      ],
      "text/plain": [
       "   Id  MSSubClass MSZoning  LotFrontage  LotArea Street Alley LotShape   \n",
       "0   1          60       RL         65.0     8450   Pave   NaN      Reg  \\\n",
       "1   2          20       RL         80.0     9600   Pave   NaN      Reg   \n",
       "2   3          60       RL         68.0    11250   Pave   NaN      IR1   \n",
       "3   4          70       RL         60.0     9550   Pave   NaN      IR1   \n",
       "4   5          60       RL         84.0    14260   Pave   NaN      IR1   \n",
       "\n",
       "  LandContour Utilities  ... PoolArea PoolQC Fence MiscFeature MiscVal MoSold   \n",
       "0         Lvl    AllPub  ...        0    NaN   NaN         NaN       0      2  \\\n",
       "1         Lvl    AllPub  ...        0    NaN   NaN         NaN       0      5   \n",
       "2         Lvl    AllPub  ...        0    NaN   NaN         NaN       0      9   \n",
       "3         Lvl    AllPub  ...        0    NaN   NaN         NaN       0      2   \n",
       "4         Lvl    AllPub  ...        0    NaN   NaN         NaN       0     12   \n",
       "\n",
       "  YrSold  SaleType  SaleCondition  SalePrice  \n",
       "0   2008        WD         Normal     208500  \n",
       "1   2007        WD         Normal     181500  \n",
       "2   2008        WD         Normal     223500  \n",
       "3   2006        WD        Abnorml     140000  \n",
       "4   2008        WD         Normal     250000  \n",
       "\n",
       "[5 rows x 81 columns]"
      ]
     },
     "execution_count": 7,
     "metadata": {},
     "output_type": "execute_result"
    }
   ],
   "source": [
    "# Carregar o dataset\n",
    "data = pd.read_csv('house_prices_train.csv')\n",
    "data.head()"
   ]
  },
  {
   "cell_type": "code",
   "execution_count": 8,
   "id": "1ab6b2f9",
   "metadata": {},
   "outputs": [],
   "source": [
    "data = data[['TotalBsmtSF','GrLivArea','SalePrice']]"
   ]
  },
  {
   "cell_type": "code",
   "execution_count": 9,
   "id": "47504e62",
   "metadata": {},
   "outputs": [],
   "source": [
    "# Separar os atributos (X) e o alvo (y)\n",
    "X = data.drop('SalePrice', axis=1).values\n",
    "y = data['SalePrice'].values"
   ]
  },
  {
   "cell_type": "code",
   "execution_count": 6,
   "id": "61be8ec8",
   "metadata": {},
   "outputs": [],
   "source": [
    "# Instanciar a classe de regressão linear\n",
    "regressao = RegressaoLinear()"
   ]
  },
  {
   "cell_type": "code",
   "execution_count": 7,
   "id": "0d709b62",
   "metadata": {},
   "outputs": [],
   "source": [
    "# Treinar o modelo\n",
    "regressao.treinar(X, y)"
   ]
  },
  {
   "cell_type": "code",
   "execution_count": 8,
   "id": "74f917ec",
   "metadata": {},
   "outputs": [],
   "source": [
    "# Prever os valores\n",
    "y_pred = regressao.prever(X)"
   ]
  },
  {
   "cell_type": "code",
   "execution_count": 9,
   "id": "453fe051",
   "metadata": {},
   "outputs": [],
   "source": [
    "# Avaliar o modelo\n",
    "mse, r2 = regressao.avaliar(X, y)"
   ]
  },
  {
   "cell_type": "code",
   "execution_count": 10,
   "id": "ac431fc5",
   "metadata": {},
   "outputs": [
    {
     "name": "stdout",
     "output_type": "stream",
     "text": [
      "Erro quadrático médio (MSE): 3139843209.666527\n",
      "Coeficiente de determinação (R²): 0.5021486502718042\n"
     ]
    }
   ],
   "source": [
    "# Exibir as métricas\n",
    "print('Erro quadrático médio (MSE):', mse)\n",
    "print('Coeficiente de determinação (R²):', r2)"
   ]
  },
  {
   "cell_type": "code",
   "execution_count": null,
   "id": "38e1d5f3",
   "metadata": {},
   "outputs": [],
   "source": [
    "np.linalg.inv(X.T.dot(X)).dot(X.T).dot(y)"
   ]
  },
  {
   "cell_type": "code",
   "execution_count": null,
   "id": "52e5db64",
   "metadata": {},
   "outputs": [],
   "source": []
  },
  {
   "cell_type": "code",
   "execution_count": 12,
   "id": "3e9e7247",
   "metadata": {},
   "outputs": [
    {
     "data": {
      "text/plain": [
       "array([[   1,  856, 1710],\n",
       "       [   1, 1262, 1262],\n",
       "       [   1,  920, 1786],\n",
       "       ...,\n",
       "       [   1, 1152, 2340],\n",
       "       [   1, 1078, 1078],\n",
       "       [   1, 1256, 1256]])"
      ]
     },
     "execution_count": 12,
     "metadata": {},
     "output_type": "execute_result"
    }
   ],
   "source": [
    "X"
   ]
  },
  {
   "cell_type": "code",
   "execution_count": 11,
   "id": "1d0c0233",
   "metadata": {},
   "outputs": [],
   "source": [
    "# Adiciona uma coluna de 1s para o termo de viés (bias)\n",
    "X = np.insert(X, 0, 1, axis=1)"
   ]
  },
  {
   "cell_type": "code",
   "execution_count": 13,
   "id": "c9a5490c",
   "metadata": {},
   "outputs": [],
   "source": [
    "# Calcula a matriz X^T * X\n",
    "XT_X = np.dot(X.T, X)"
   ]
  },
  {
   "cell_type": "code",
   "execution_count": 14,
   "id": "6651e121",
   "metadata": {},
   "outputs": [
    {
     "data": {
      "text/plain": [
       "array([[      1460,    1543847,    2212577],\n",
       "       [   1543847, 1913311873, 2492636635],\n",
       "       [   2212577, 2492636635, 3755953259]])"
      ]
     },
     "execution_count": 14,
     "metadata": {},
     "output_type": "execute_result"
    }
   ],
   "source": [
    "XT_X"
   ]
  },
  {
   "cell_type": "code",
   "execution_count": 15,
   "id": "741522e0",
   "metadata": {},
   "outputs": [],
   "source": [
    "# Calcula a matriz inversa de XT_X\n",
    "XT_X_inv = np.linalg.inv(XT_X)"
   ]
  },
  {
   "cell_type": "code",
   "execution_count": 16,
   "id": "f43f50e1",
   "metadata": {},
   "outputs": [
    {
     "data": {
      "text/plain": [
       "array([[ 7.42844303e-03, -2.16398670e-06, -2.93985811e-06],\n",
       "       [-2.16398670e-06,  4.49028318e-09, -1.70520150e-09],\n",
       "       [-2.93985811e-06, -1.70520150e-09,  3.12972749e-09]])"
      ]
     },
     "execution_count": 16,
     "metadata": {},
     "output_type": "execute_result"
    }
   ],
   "source": [
    "XT_X_inv"
   ]
  },
  {
   "cell_type": "code",
   "execution_count": 17,
   "id": "805b5799",
   "metadata": {},
   "outputs": [],
   "source": [
    "# Calcula a matriz X^T * y\n",
    "XT_y = np.dot(X.T, y)"
   ]
  },
  {
   "cell_type": "code",
   "execution_count": 18,
   "id": "fc9c7cf0",
   "metadata": {},
   "outputs": [
    {
     "data": {
      "text/plain": [
       "array([   264144946, 310514509527, 443462020418])"
      ]
     },
     "execution_count": 18,
     "metadata": {},
     "output_type": "execute_result"
    }
   ],
   "source": [
    "XT_y"
   ]
  },
  {
   "cell_type": "code",
   "execution_count": 19,
   "id": "18b2660a",
   "metadata": {
    "scrolled": true
   },
   "outputs": [
    {
     "data": {
      "text/plain": [
       "array([-13479.00523843,     66.49982391,     81.876807  ])"
      ]
     },
     "execution_count": 19,
     "metadata": {},
     "output_type": "execute_result"
    }
   ],
   "source": [
    "np.dot(XT_X_inv, XT_y)"
   ]
  },
  {
   "cell_type": "code",
   "execution_count": null,
   "id": "742d7e60",
   "metadata": {},
   "outputs": [],
   "source": [
    "# Calcula os coeficientes usando a fórmula da regressão linear\n",
    "self.coeficientes = np.dot(XT_X_inv, XT_y)"
   ]
  },
  {
   "cell_type": "code",
   "execution_count": null,
   "id": "b98f5d59",
   "metadata": {},
   "outputs": [],
   "source": [
    "\n",
    "        \n",
    "\n",
    "        \n",
    "\n",
    "        \n",
    "\n",
    "        \n"
   ]
  },
  {
   "cell_type": "code",
   "execution_count": null,
   "id": "4c160b12",
   "metadata": {},
   "outputs": [],
   "source": []
  },
  {
   "cell_type": "code",
   "execution_count": null,
   "id": "25bdc4fb",
   "metadata": {},
   "outputs": [],
   "source": []
  }
 ],
 "metadata": {
  "kernelspec": {
   "display_name": "Python 3 (ipykernel)",
   "language": "python",
   "name": "python3"
  },
  "language_info": {
   "codemirror_mode": {
    "name": "ipython",
    "version": 3
   },
   "file_extension": ".py",
   "mimetype": "text/x-python",
   "name": "python",
   "nbconvert_exporter": "python",
   "pygments_lexer": "ipython3",
   "version": "3.10.6"
  }
 },
 "nbformat": 4,
 "nbformat_minor": 5
}
